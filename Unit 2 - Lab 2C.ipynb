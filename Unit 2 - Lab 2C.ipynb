{
  "nbformat": 4,
  "nbformat_minor": 0,
  "metadata": {
    "colab": {
      "provenance": []
    },
    "kernelspec": {
      "name": "python3",
      "display_name": "Python 3"
    }
  },
  "cells": [
    {
      "cell_type": "markdown",
      "metadata": {
        "id": "t1p_7KZh4np7"
      },
      "source": [
        "Load in the required libraries."
      ]
    },
    {
      "cell_type": "code",
      "metadata": {
        "id": "IOtXS-ilzkPj"
      },
      "source": [
        "import numpy as np\n",
        "import matplotlib.pyplot as plt"
      ],
      "execution_count": null,
      "outputs": []
    },
    {
      "cell_type": "code",
      "source": [
        "# Run this cell to mount your Google Drive.\n",
        "from google.colab import drive\n",
        "drive.mount('gdrive')"
      ],
      "metadata": {
        "id": "PHyBGacDq0K7"
      },
      "execution_count": null,
      "outputs": []
    },
    {
      "cell_type": "markdown",
      "metadata": {
        "id": "6ne26Nvm5BiS"
      },
      "source": [
        "Load in the data files. You have two files, one for mass $m_1$ and the other for mass $m_2$. Load the files and use ; as the delimiter."
      ]
    },
    {
      "cell_type": "code",
      "metadata": {
        "id": "w13AuP9X0WER"
      },
      "source": [
        "# read_in_array_m1 = np.loadtxt('filename',delimiter=';')\n",
        "\n",
        "# read_in_array_m2 = np.loadtxt('filename',delimiter=';')\n"
      ],
      "execution_count": null,
      "outputs": []
    },
    {
      "cell_type": "markdown",
      "metadata": {
        "id": "bJQYAYd-5HxE"
      },
      "source": [
        "Extract the time and the position for both the files."
      ]
    },
    {
      "cell_type": "code",
      "metadata": {
        "id": "wvv49Xo60Z4c"
      },
      "source": [
        "# time_m1 = read_in_array_m1[:,?]\n",
        "\n",
        "# time_m2 = read_in_array_m2[:,?]\n",
        "\n",
        "# position_m1 = ??\n",
        "\n",
        "# position_m2 = ??\n"
      ],
      "execution_count": null,
      "outputs": []
    },
    {
      "cell_type": "markdown",
      "source": [
        "Plot the position as a function of time for mass $m_1$."
      ],
      "metadata": {
        "id": "N53-hljKOPJ_"
      }
    },
    {
      "cell_type": "code",
      "source": [
        "# Plot the position of m1 vs time\n",
        "\n",
        "# Use axes labels\n"
      ],
      "metadata": {
        "id": "6ipitpMWOOiR"
      },
      "execution_count": null,
      "outputs": []
    },
    {
      "cell_type": "markdown",
      "source": [
        "Now we can plot the position of $m_1$ vs the array index to find the pre-collision and post-collision points of interest for both the masses."
      ],
      "metadata": {
        "id": "9eqQkjAVOjXT"
      }
    },
    {
      "cell_type": "code",
      "metadata": {
        "id": "1iD7o9t53maB"
      },
      "source": [
        "# Plot the position of m1 vs array index\n",
        "\n",
        "# Array indecies can be found by np.arange(len(position_m1))\n",
        "# Use plt.scatter(array_indecies, position_m1)\n",
        "\n",
        "# Include axes labels\n"
      ],
      "execution_count": null,
      "outputs": []
    },
    {
      "cell_type": "markdown",
      "source": [
        "This way we can get the points pre-collision and post-collision. Let's isolate the position and time array for pre and post collision now that we know the array index at the point of collision.\n",
        "\n",
        "You may have to ignore a few points just before and just after the collision."
      ],
      "metadata": {
        "id": "wbBgOKACu1v4"
      }
    },
    {
      "cell_type": "code",
      "source": [
        "# Replace the ? with the start and end index of the pre-collision data\n",
        "# pos_m1_pre = position_m1[?:?]\n",
        "\n",
        "# The indices for the time are going to be same as that of the position\n",
        "# time_m1_pre = time_m1[?:?]  \n",
        "\n",
        "# Replace the ? with the start and end index of the post-collision data\n",
        "# pos_m1_post = position_m1[?:?]\n",
        "\n",
        "# The indices for the time are going to be same as that of the position\n",
        "# time_m1_post = time_m1[?:?]  \n"
      ],
      "metadata": {
        "id": "YKCsjv9nu15U"
      },
      "execution_count": null,
      "outputs": []
    },
    {
      "cell_type": "markdown",
      "source": [
        "Use np.polyfit() of degree 1 to find the velocity pre and post collision. Find the error in this velocity from the covariance matrix."
      ],
      "metadata": {
        "id": "CMuhrlbvv3p0"
      }
    },
    {
      "cell_type": "code",
      "source": [
        "# coeff_linear_pre_m1, cov_pre_m1 = np.polyfit(time_m1_pre, pos_m1_pre,1,cov=True)\n",
        "\n",
        "# The slope of this curve is the velocity pre-collision\n",
        "# u1 = coeff_linear_pre_m1[0]\n",
        "\n",
        "# The error in velocity is found from cov_pre\n",
        "# delta_u1 = np.sqrt(cov_pre_m1[0,0])\n",
        "\n",
        "# Repeat the process to find the velocity and its error post-collision\n",
        "# You can call the velocity v1 and its error as delta_v1\n",
        "\n",
        "\n",
        "\n",
        "\n",
        "\n"
      ],
      "metadata": {
        "id": "DOVGqe-Dv3z9"
      },
      "execution_count": null,
      "outputs": []
    },
    {
      "cell_type": "markdown",
      "source": [
        "You now have 4 important values. \n",
        "\n",
        "We have \n",
        "\n",
        "i) velocity of $m_1$ pre-collision : mean $u_1$ error $\\delta u_1$\n",
        "\n",
        "ii) velocity of $m_1$ post-collision : mean $v_1$ error $\\delta v_1$"
      ],
      "metadata": {
        "id": "Y9r8sv1tRtug"
      }
    },
    {
      "cell_type": "markdown",
      "source": [
        "We still need to find $u_2$, $\\delta u_2$, $v_2$ and $\\delta v_2$. We do this by repeating the process starting from plotting the position vs time for $m_2$."
      ],
      "metadata": {
        "id": "sRVG6gu3xVTi"
      }
    },
    {
      "cell_type": "code",
      "source": [
        "# Plot the position of m2 vs time\n",
        "\n",
        "# Use axes labels\n"
      ],
      "metadata": {
        "id": "gUv7j5Zyxs-T"
      },
      "execution_count": null,
      "outputs": []
    },
    {
      "cell_type": "code",
      "source": [
        "# Plot the position of m2 vs array index\n",
        "# Use plt.plot(position_m2)\n",
        "\n",
        "# Use axes labels\n"
      ],
      "metadata": {
        "id": "SEcadqIQxtEy"
      },
      "execution_count": null,
      "outputs": []
    },
    {
      "cell_type": "code",
      "source": [
        "# Create arrays for pre and post collision position and time like you did for m1\n",
        "\n",
        "\n",
        "\n",
        "\n",
        "\n",
        "\n"
      ],
      "metadata": {
        "id": "QqIkavvuxtHl"
      },
      "execution_count": null,
      "outputs": []
    },
    {
      "cell_type": "code",
      "source": [
        "# Find u2, v2 and associated errors using polyfit\n",
        "\n",
        "\n",
        "\n",
        "\n",
        "\n",
        "\n",
        "\n"
      ],
      "metadata": {
        "id": "ZAFFSHuPxtKV"
      },
      "execution_count": null,
      "outputs": []
    },
    {
      "cell_type": "markdown",
      "source": [
        "Now we know 8 important values.\n",
        "\n",
        "i) velocity of $m_1$ pre-collision : mean $u_1$ error $\\delta u_1$\n",
        "\n",
        "ii) velocity of $m_1$ post-collision : mean $v_1$ error $\\delta v_1$\n",
        "\n",
        "iii) velocity of $m_2$ pre-collision : mean $u_2$ error $\\delta u_2$\n",
        "\n",
        "iv) velocity of $m_2$ post-collision : mean $v_2$ error $\\delta v_2$"
      ],
      "metadata": {
        "id": "4iiG0A_Kx-ST"
      }
    },
    {
      "cell_type": "markdown",
      "source": [
        "Create variables for storing the mass of $m_1$ and $m_2$ as well as the associated $\\delta m_1$ and $\\delta m_2$.\n",
        "\n",
        "$\\delta m_1$ and $\\delta m_2$ are the minimum measurements on the scale."
      ],
      "metadata": {
        "id": "6Zdi609WTHRA"
      }
    },
    {
      "cell_type": "code",
      "source": [
        "# m1 =\n",
        "\n",
        "# m2 =\n",
        "\n",
        "# delta_m1 =\n",
        "\n",
        "# delta_m2 =\n"
      ],
      "metadata": {
        "id": "hNHmGMMxTGzg"
      },
      "execution_count": null,
      "outputs": []
    },
    {
      "cell_type": "markdown",
      "source": [
        "You have already built the functions to find momentum, error in momentum, energy and error in energy in the Pre-lab. Please copy the functions from the cell and paste them into cells in this notebook. "
      ],
      "metadata": {
        "id": "iFAnktgN-we9"
      }
    },
    {
      "cell_type": "code",
      "source": [
        "# define momentum function\n"
      ],
      "metadata": {
        "id": "h3mlz8-ST5YP"
      },
      "execution_count": null,
      "outputs": []
    },
    {
      "cell_type": "code",
      "source": [
        "# define momentum error function\n"
      ],
      "metadata": {
        "id": "dpbQEgvvT_yE"
      },
      "execution_count": null,
      "outputs": []
    },
    {
      "cell_type": "code",
      "source": [
        "# define energy function\n"
      ],
      "metadata": {
        "id": "8r3GVei4T_50"
      },
      "execution_count": null,
      "outputs": []
    },
    {
      "cell_type": "code",
      "source": [
        "# define energy error function\n"
      ],
      "metadata": {
        "id": "hjR7XHe1UABT"
      },
      "execution_count": null,
      "outputs": []
    },
    {
      "cell_type": "markdown",
      "source": [
        "Now, call the functions on the values that you have. Remember that the order of inputs into the function call must be in exactly the same order as the function definition. "
      ],
      "metadata": {
        "id": "RqjnHNO6UAlK"
      }
    },
    {
      "cell_type": "markdown",
      "source": [
        "# Momentum and errors"
      ],
      "metadata": {
        "id": "nXCtw7uoUjab"
      }
    },
    {
      "cell_type": "code",
      "source": [
        "# m1 initial momentum with error\n"
      ],
      "metadata": {
        "id": "IhPkpfIvUYJl"
      },
      "execution_count": null,
      "outputs": []
    },
    {
      "cell_type": "code",
      "source": [
        "# m2 initial momentum with error\n"
      ],
      "metadata": {
        "id": "fIGW8hFuUYMF"
      },
      "execution_count": null,
      "outputs": []
    },
    {
      "cell_type": "code",
      "source": [
        "# m1 final momentum with error\n"
      ],
      "metadata": {
        "id": "6pkhxkqeUYOy"
      },
      "execution_count": null,
      "outputs": []
    },
    {
      "cell_type": "code",
      "source": [
        "# m2 final momentum with error\n"
      ],
      "metadata": {
        "id": "SWKX7ksMUYRu"
      },
      "execution_count": null,
      "outputs": []
    },
    {
      "cell_type": "markdown",
      "source": [
        "System momentum loss :\n",
        "\n",
        "If the initial momentum and error of $m_1$ are $p_{1i}$ and $\\delta p_{1i}$, initial momentum with error of $m_2$ are $p_{2i}$ and $\\delta p_{2i}$, final momentum and error of $m_1$ are $p_{1f}$ and $\\delta p_{1f}$, final momentum with error of $m_2$ are $p_{2f}$ and $\\delta p_{2f}$ then,\n",
        "\n",
        "The system momentum loss is $(p_{1i} + p_{2i}) - (p_{1f} + p_{2f})$\n",
        "\n",
        "The error in system momentum loss is $ \\sqrt {({\\delta p_{1i}})^2 + ({\\delta p_{2i}})^2 + ({\\delta p_{1f}})^2 +({\\delta p_{2f}})^2} $"
      ],
      "metadata": {
        "id": "0dIyUSTUUwZK"
      }
    },
    {
      "cell_type": "code",
      "source": [
        "# System momentum loss\n",
        "\n",
        "# Error in system momentum loss\n"
      ],
      "metadata": {
        "id": "vIE3yjeqUqaK"
      },
      "execution_count": null,
      "outputs": []
    },
    {
      "cell_type": "markdown",
      "source": [
        "# Energy and errors"
      ],
      "metadata": {
        "id": "l5WhrOXiUnCw"
      }
    },
    {
      "cell_type": "markdown",
      "source": [
        "Follow the procedure outlined in the momentum section and find the energies and associated errors."
      ],
      "metadata": {
        "id": "lAhLmEC-XJEt"
      }
    },
    {
      "cell_type": "code",
      "metadata": {
        "id": "FMHleaxK0119"
      },
      "source": [],
      "execution_count": null,
      "outputs": []
    },
    {
      "cell_type": "markdown",
      "source": [
        "Find the system energy loss and its associated error."
      ],
      "metadata": {
        "id": "CAQVaM9LXTpW"
      }
    },
    {
      "cell_type": "code",
      "source": [],
      "metadata": {
        "id": "liE2Vx3aXbi0"
      },
      "execution_count": null,
      "outputs": []
    },
    {
      "cell_type": "markdown",
      "source": [
        "Once this is done, fill up one of the rows of the tables in the slides with your values. Fill up the other rows by taking the values from your teammates."
      ],
      "metadata": {
        "id": "rjFV7RrmyopM"
      }
    }
  ]
}