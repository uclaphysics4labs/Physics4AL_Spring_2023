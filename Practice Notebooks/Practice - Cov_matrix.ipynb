{
  "nbformat": 4,
  "nbformat_minor": 0,
  "metadata": {
    "colab": {
      "provenance": []
    },
    "kernelspec": {
      "name": "python3",
      "display_name": "Python 3"
    }
  },
  "cells": [
    {
      "cell_type": "markdown",
      "metadata": {
        "id": "t1p_7KZh4np7"
      },
      "source": [
        "Let's look at some generated data and extract the uncertainty in our fit parameters using the covariance matrix of the polyfit function."
      ]
    },
    {
      "cell_type": "code",
      "metadata": {
        "id": "IOtXS-ilzkPj"
      },
      "source": [
        "import numpy as np\n",
        "# Generate 10 points from 0 to 5\n",
        "x=np.linspace(0,5,10)\n",
        "# Generate 10 points from 0 to 10\n",
        "y=np.linspace(0,10,10)"
      ],
      "execution_count": null,
      "outputs": []
    },
    {
      "cell_type": "markdown",
      "metadata": {
        "id": "6ne26Nvm5BiS"
      },
      "source": [
        "Plotting a scatter function between x and y."
      ]
    },
    {
      "cell_type": "code",
      "metadata": {
        "colab": {
          "base_uri": "https://localhost:8080/",
          "height": 282
        },
        "id": "w13AuP9X0WER",
        "outputId": "51610e5c-8ddd-4c53-f104-1ba5454f608f"
      },
      "source": [
        "import matplotlib.pyplot as plt\n",
        "plt.scatter(x,y)"
      ],
      "execution_count": null,
      "outputs": [
        {
          "output_type": "execute_result",
          "data": {
            "text/plain": [
              "<matplotlib.collections.PathCollection at 0x7fbe8d789240>"
            ]
          },
          "metadata": {
            "tags": []
          },
          "execution_count": 2
        },
        {
          "output_type": "display_data",
          "data": {
            "image/png": "[encoded data removed]",
            "text/plain": [
              "<Figure size 432x288 with 1 Axes>"
            ]
          },
          "metadata": {
            "tags": [],
            "needs_background": "light"
          }
        }
      ]
    },
    {
      "cell_type": "markdown",
      "metadata": {
        "id": "bJQYAYd-5HxE"
      },
      "source": [
        "The data seems to resemble a perfect straight line. Let's extract the slope and intercept using np.polyfit."
      ]
    },
    {
      "cell_type": "code",
      "metadata": {
        "colab": {
          "base_uri": "https://localhost:8080/"
        },
        "id": "wvv49Xo60Z4c",
        "outputId": "d5c2b9de-ee61-4654-eb51-4a8d188bbe99"
      },
      "source": [
        "results=np.polyfit(x,y,1)\n",
        "print(results)"
      ],
      "execution_count": null,
      "outputs": [
        {
          "output_type": "stream",
          "text": [
            "[ 2.00000000e+00 -2.59529712e-16]\n"
          ],
          "name": "stdout"
        }
      ]
    },
    {
      "cell_type": "markdown",
      "metadata": {
        "id": "SNw0RE-N5VPr"
      },
      "source": [
        "The slope is 2 and the intercept is essentially zero. Let's plot the best fit line on top of the data to see what it looks like."
      ]
    },
    {
      "cell_type": "code",
      "metadata": {
        "colab": {
          "base_uri": "https://localhost:8080/",
          "height": 282
        },
        "id": "1iD7o9t53maB",
        "outputId": "b6e5c5bf-383f-4044-d8d1-2b7259872f63"
      },
      "source": [
        "plt.scatter(x,y,label=\"data\")\n",
        "plt.plot(x,results[0]*x+results[1],color=\"red\",label=\"fit\")\n",
        "plt.legend()"
      ],
      "execution_count": null,
      "outputs": [
        {
          "output_type": "execute_result",
          "data": {
            "text/plain": [
              "<matplotlib.legend.Legend at 0x7fbe8d2e8128>"
            ]
          },
          "metadata": {
            "tags": []
          },
          "execution_count": 4
        },
        {
          "output_type": "display_data",
          "data": {
            "image/png": "[encoded data removed]",
            "text/plain": [
              "<Figure size 432x288 with 1 Axes>"
            ]
          },
          "metadata": {
            "tags": [],
            "needs_background": "light"
          }
        }
      ]
    },
    {
      "cell_type": "markdown",
      "metadata": {
        "id": "_dhG6IEQ5jCD"
      },
      "source": [
        "The best fit line sits right on top of all the points. This means that we can be extremely sure that we have the right line through these points.\n",
        "\n",
        "We can find the uncertainty in our slope and intercept using the covariance matrix. Inside the np.polyfit() function, set cov = True and introduce another variable on the left side along with results.\n",
        "\n",
        "Results will now store the slope and intercept while cov will store the covariance matrix."
      ]
    },
    {
      "cell_type": "code",
      "metadata": {
        "id": "XBDwohrs0nKV"
      },
      "source": [
        "results, cov = np.polyfit(x,y,1,cov=True)"
      ],
      "execution_count": null,
      "outputs": []
    },
    {
      "cell_type": "code",
      "metadata": {
        "colab": {
          "base_uri": "https://localhost:8080/"
        },
        "id": "FMHleaxK0119",
        "outputId": "f12cf772-3add-45f8-c086-f17c263796ac"
      },
      "source": [
        "print(results)"
      ],
      "execution_count": null,
      "outputs": [
        {
          "output_type": "stream",
          "text": [
            "[ 2.00000000e+00 -2.59529712e-16]\n"
          ],
          "name": "stdout"
        }
      ]
    },
    {
      "cell_type": "code",
      "metadata": {
        "colab": {
          "base_uri": "https://localhost:8080/"
        },
        "id": "GzAO5DlF03NH",
        "outputId": "f87d70e0-a278-409d-a11f-24b011f2407c"
      },
      "source": [
        "print(cov)"
      ],
      "execution_count": null,
      "outputs": [
        {
          "output_type": "stream",
          "text": [
            "[[ 5.02497782e-32 -1.25624446e-31]\n",
            " [-1.25624446e-31  4.42011938e-31]]\n"
          ],
          "name": "stdout"
        }
      ]
    },
    {
      "cell_type": "markdown",
      "metadata": {
        "id": "3_125lLG6yCt"
      },
      "source": [
        "Notice that the top right and bottom left values are equal. They represent the covariance between the slope and the intercept. \n",
        "\n",
        "The covariance matrix has 4 values in this case. It can be represented as \n",
        "\n",
        "$$ \\begin{bmatrix}\n",
        "\\sigma^2_{m} & \\sigma^2_{m,b} \\\\\n",
        "\\sigma^2_{b,m} & \\sigma^2_{b} \n",
        "\\end{bmatrix} $$\n",
        "\n",
        "$\\sigma^2_m$ is the variance in the slope $m$ and $\\sigma^2_b$ is the variance in the intercept $b$.  \n"
      ]
    },
    {
      "cell_type": "code",
      "metadata": {
        "colab": {
          "base_uri": "https://localhost:8080/"
        },
        "id": "LsRzzGsj_-yg",
        "outputId": "8326d8af-1b53-4161-d4f6-c7c05b0b4ceb"
      },
      "source": [
        "print(\"Error in slope is \"+str(np.sqrt(cov[0,0])))\n",
        "print(\"Error in intercept is \"+str(np.sqrt(cov[1,1])))"
      ],
      "execution_count": null,
      "outputs": [
        {
          "output_type": "stream",
          "text": [
            "Error in slope is 2.2416462308885536e-16\n",
            "Error in intercept is 6.648397839046706e-16\n"
          ],
          "name": "stdout"
        }
      ]
    },
    {
      "cell_type": "markdown",
      "metadata": {
        "id": "W2IYSvd_AU2B"
      },
      "source": [
        "Recall that\n",
        "1. The square root of variance is standard deviation.\n",
        "2. The standard deviation is a representation of the error in a quantity.\n",
        "\n",
        "Since the best fit line was right on top of the data, the error or uncertainty in our slope and intercept is zero. cov[0,0] holds the variance in slope while cov[1,1] holds the variance in the intercept."
      ]
    },
    {
      "cell_type": "markdown",
      "metadata": {
        "id": "giTA4GeLArQq"
      },
      "source": [
        "Let's now look at a noisier dataset. We add some noise using np.random.normal() which generates 10 values from a Gaussian with mean = 0 and standard deviation = 0.5."
      ]
    },
    {
      "cell_type": "code",
      "metadata": {
        "id": "xvJLMWdS05JV"
      },
      "source": [
        "# Creating noise\n",
        "noise = np.random.normal(0,0.5,10)"
      ],
      "execution_count": null,
      "outputs": []
    },
    {
      "cell_type": "code",
      "metadata": {
        "id": "bUOPeNsj1d21"
      },
      "source": [
        "y_noise=y+noise"
      ],
      "execution_count": null,
      "outputs": []
    },
    {
      "cell_type": "code",
      "metadata": {
        "colab": {
          "base_uri": "https://localhost:8080/",
          "height": 282
        },
        "id": "OoEMKFMo1ixU",
        "outputId": "51bd2bbd-7192-4064-de19-d4c119b3b0e1"
      },
      "source": [
        "plt.scatter(x,y_noise)"
      ],
      "execution_count": null,
      "outputs": [
        {
          "output_type": "execute_result",
          "data": {
            "text/plain": [
              "<matplotlib.collections.PathCollection at 0x7fbe849e8048>"
            ]
          },
          "metadata": {
            "tags": []
          },
          "execution_count": 11
        },
        {
          "output_type": "display_data",
          "data": {
            "image/png": "[encoded data removed]",
            "text/plain": [
              "<Figure size 432x288 with 1 Axes>"
            ]
          },
          "metadata": {
            "tags": [],
            "needs_background": "light"
          }
        }
      ]
    },
    {
      "cell_type": "code",
      "metadata": {
        "colab": {
          "base_uri": "https://localhost:8080/"
        },
        "id": "_IQXo_-c1lvc",
        "outputId": "9b5bd5ef-7326-42bf-b2a0-70e3ebb1884b"
      },
      "source": [
        "results_noise=np.polyfit(x,y_noise,1)\n",
        "print(results_noise)"
      ],
      "execution_count": null,
      "outputs": [
        {
          "output_type": "stream",
          "text": [
            "[ 2.05140342 -0.12526275]\n"
          ],
          "name": "stdout"
        }
      ]
    },
    {
      "cell_type": "code",
      "metadata": {
        "colab": {
          "base_uri": "https://localhost:8080/",
          "height": 282
        },
        "id": "Gx4S9QXv1yYF",
        "outputId": "dbe99ae9-9c21-4be0-d029-3a654be5293f"
      },
      "source": [
        "plt.scatter(x,y_noise,label=\"data\")\n",
        "plt.plot(x,results_noise[0]*x+results_noise[1],color=\"red\",label=\"fit\")\n",
        "plt.legend()"
      ],
      "execution_count": null,
      "outputs": [
        {
          "output_type": "execute_result",
          "data": {
            "text/plain": [
              "<matplotlib.legend.Legend at 0x7fbe849c6860>"
            ]
          },
          "metadata": {
            "tags": []
          },
          "execution_count": 13
        },
        {
          "output_type": "display_data",
          "data": {
            "image/png": "[encoded data removed]",
            "text/plain": [
              "<Figure size 432x288 with 1 Axes>"
            ]
          },
          "metadata": {
            "tags": [],
            "needs_background": "light"
          }
        }
      ]
    },
    {
      "cell_type": "markdown",
      "metadata": {
        "id": "MA87LTMnBEXn"
      },
      "source": [
        "If we plot the data and the best fit, we see that the best fit line does not go through all the points. The line is a good representation of what the data looks like (in fact it is the best)."
      ]
    },
    {
      "cell_type": "code",
      "metadata": {
        "id": "E0XnHVWQ2CUU"
      },
      "source": [
        "results_noise, cov_noise = np.polyfit(x,y_noise,1,cov=True)"
      ],
      "execution_count": null,
      "outputs": []
    },
    {
      "cell_type": "code",
      "metadata": {
        "colab": {
          "base_uri": "https://localhost:8080/"
        },
        "id": "IcH7RoYl2MFT",
        "outputId": "1d87a853-d30b-4fdf-e898-45a6b9193482"
      },
      "source": [
        "cov_noise"
      ],
      "execution_count": null,
      "outputs": [
        {
          "output_type": "execute_result",
          "data": {
            "text/plain": [
              "array([[ 0.01356367, -0.03390918],\n",
              "       [-0.03390918,  0.11931009]])"
            ]
          },
          "metadata": {
            "tags": []
          },
          "execution_count": 15
        }
      ]
    },
    {
      "cell_type": "markdown",
      "metadata": {
        "id": "lt-nS8hDBYcI"
      },
      "source": [
        "The covariance matrix values are significantly larger than last time. "
      ]
    },
    {
      "cell_type": "code",
      "metadata": {
        "colab": {
          "base_uri": "https://localhost:8080/"
        },
        "id": "R8NN2vAVBijO",
        "outputId": "28829b1f-be53-4e6b-bb62-0ef51cd5de88"
      },
      "source": [
        "print(\"Error in slope is \"+str(np.sqrt(cov_noise[0,0])))\n",
        "print(\"Error in intercept is \"+str(np.sqrt(cov_noise[1,1])))"
      ],
      "execution_count": null,
      "outputs": [
        {
          "output_type": "stream",
          "text": [
            "Error in slope is 0.11646318233203526\n",
            "Error in intercept is 0.3454129197888142\n"
          ],
          "name": "stdout"
        }
      ]
    },
    {
      "cell_type": "markdown",
      "metadata": {
        "id": "UzeWEnqzBpqi"
      },
      "source": [
        "This means that the slope for this line is 2.051 $\\pm$ 0.116 while the intercept is -0.125 $\\pm$ 0.345. "
      ]
    },
    {
      "cell_type": "markdown",
      "metadata": {
        "id": "k9znFkkjCDSP"
      },
      "source": [
        "We can create even more noise and see what happens to the values."
      ]
    },
    {
      "cell_type": "code",
      "metadata": {
        "id": "VEjPB70M2NdE"
      },
      "source": [
        "#Creating more noise\n",
        "noisier = np.random.normal(0,1,10)\n",
        "y_noisier = y+noisier"
      ],
      "execution_count": null,
      "outputs": []
    },
    {
      "cell_type": "code",
      "metadata": {
        "colab": {
          "base_uri": "https://localhost:8080/",
          "height": 284
        },
        "id": "FW4cM52A4EXx",
        "outputId": "55a5178b-7867-485d-f61a-cebc889a06a7"
      },
      "source": [
        "plt.scatter(x,y_noisier)"
      ],
      "execution_count": null,
      "outputs": [
        {
          "output_type": "execute_result",
          "data": {
            "text/plain": [
              "<matplotlib.collections.PathCollection at 0x7fbe84939320>"
            ]
          },
          "metadata": {
            "tags": []
          },
          "execution_count": 18
        },
        {
          "output_type": "display_data",
          "data": {
            "image/png": "[encoded data removed]",
            "text/plain": [
              "<Figure size 432x288 with 1 Axes>"
            ]
          },
          "metadata": {
            "tags": [],
            "needs_background": "light"
          }
        }
      ]
    },
    {
      "cell_type": "code",
      "metadata": {
        "colab": {
          "base_uri": "https://localhost:8080/"
        },
        "id": "HB7cOQuW4F0z",
        "outputId": "976e201c-b3bb-4783-aae9-68077f3a8dc0"
      },
      "source": [
        "results_noisier=np.polyfit(x,y_noisier,1)\n",
        "print(results_noisier)"
      ],
      "execution_count": null,
      "outputs": [
        {
          "output_type": "stream",
          "text": [
            "[1.76113464 0.43970295]\n"
          ],
          "name": "stdout"
        }
      ]
    },
    {
      "cell_type": "code",
      "metadata": {
        "colab": {
          "base_uri": "https://localhost:8080/",
          "height": 284
        },
        "id": "jrk2t8qk4NJu",
        "outputId": "b26fc8ec-0682-4a8b-fdf8-beaa7022076c"
      },
      "source": [
        "plt.scatter(x,y_noisier,label=\"data\")\n",
        "plt.plot(x,results_noisier[0]*x+results_noisier[1],color=\"red\",label=\"fit\")\n",
        "plt.legend()"
      ],
      "execution_count": null,
      "outputs": [
        {
          "output_type": "execute_result",
          "data": {
            "text/plain": [
              "<matplotlib.legend.Legend at 0x7fbe84917b00>"
            ]
          },
          "metadata": {
            "tags": []
          },
          "execution_count": 20
        },
        {
          "output_type": "display_data",
          "data": {
            "image/png": "[encoded data removed]",
            "text/plain": [
              "<Figure size 432x288 with 1 Axes>"
            ]
          },
          "metadata": {
            "tags": [],
            "needs_background": "light"
          }
        }
      ]
    },
    {
      "cell_type": "code",
      "metadata": {
        "id": "vNxwdgck4QDN"
      },
      "source": [
        "results_noisier, cov_noisier = np.polyfit(x,y_noisier,1,cov=True)"
      ],
      "execution_count": null,
      "outputs": []
    },
    {
      "cell_type": "code",
      "metadata": {
        "colab": {
          "base_uri": "https://localhost:8080/"
        },
        "id": "Z_T__DBE4VX9",
        "outputId": "bb66bbf5-2b9f-483a-e4b7-017351b28a0b"
      },
      "source": [
        "cov_noisier"
      ],
      "execution_count": null,
      "outputs": [
        {
          "output_type": "execute_result",
          "data": {
            "text/plain": [
              "array([[ 0.08892406, -0.22231014],\n",
              "       [-0.22231014,  0.78220234]])"
            ]
          },
          "metadata": {
            "tags": []
          },
          "execution_count": 22
        }
      ]
    },
    {
      "cell_type": "code",
      "metadata": {
        "colab": {
          "base_uri": "https://localhost:8080/"
        },
        "id": "hRaMHt_a4Xqd",
        "outputId": "dfbd2384-baed-491b-b8bd-9235745670bd"
      },
      "source": [
        "print(\"Error in slope is \"+str(np.sqrt(cov_noisier[0,0])))\n",
        "print(\"Error in intercept is \"+str(np.sqrt(cov_noisier[1,1])))"
      ],
      "execution_count": null,
      "outputs": [
        {
          "output_type": "stream",
          "text": [
            "Error in slope is 0.2982013682748009\n",
            "Error in intercept is 0.8844220399813493\n"
          ],
          "name": "stdout"
        }
      ]
    },
    {
      "cell_type": "markdown",
      "metadata": {
        "id": "onvPlFdCCeez"
      },
      "source": [
        "This means that the slope for this line is 1.761 $\\pm$ 0.298 while the intercept is 0.440 $\\pm$ 0.884. "
      ]
    },
    {
      "cell_type": "markdown",
      "metadata": {
        "id": "tqlVo-rhzpKZ"
      },
      "source": [
        "We can also look at how this extends to the quadratic case. If you are fitting a second degree polynomial of the form \n",
        "$$ y = ax^2 +bx +c $$\n",
        "\n",
        "The covariance matrix will have 9 values. It can be represented as \n",
        "\n",
        "$$ \\begin{bmatrix}\n",
        "\\sigma^2_{a} & \\sigma^2_{a,b} & \\sigma^2_{a,c}\\\\\n",
        "\\sigma^2_{b,a} & \\sigma^2_{b} & \\sigma^2_{b,c} \\\\\n",
        "\\sigma^2_{c,a} & \\sigma^2_{c,b} & \\sigma^2_{c}\n",
        "\\end{bmatrix} $$\n",
        "\n",
        "$\\sigma^2_a$ is the variance in the coefficient $a$,  $\\sigma^2_b$ is the variance in the coefficient $b$, and $\\sigma^2_c$ is the variance in the intercept $c$. The square root of the variances gives the standard deviation which is the uncertainty/error.  "
      ]
    },
    {
      "cell_type": "code",
      "metadata": {
        "id": "dHp4OTgzHjEx"
      },
      "source": [],
      "execution_count": null,
      "outputs": []
    }
  ]
}