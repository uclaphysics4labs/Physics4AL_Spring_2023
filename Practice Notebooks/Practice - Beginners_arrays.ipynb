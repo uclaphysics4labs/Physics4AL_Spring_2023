{
  "nbformat": 4,
  "nbformat_minor": 0,
  "metadata": {
    "colab": {
      "provenance": []
    },
    "kernelspec": {
      "name": "python3",
      "display_name": "Python 3"
    }
  },
  "cells": [
    {
      "cell_type": "markdown",
      "metadata": {
        "id": "F_gZRPwLmfYd"
      },
      "source": [
        "# Introduction to arrays"
      ]
    },
    {
      "cell_type": "markdown",
      "metadata": {
        "id": "n2q7srwGmjW3"
      },
      "source": [
        "Arrays are an important part of any form of data processing. An array is a list of numbers or a matrix of numbers. Below, we generate an array. In this example, our array will list the distances of a mass at various points in time."
      ]
    },
    {
      "cell_type": "code",
      "metadata": {
        "id": "89WVp9_Tmess"
      },
      "source": [
        "import numpy as np\n",
        "object_distance = np.array([2., 1.3, 1.8, 9., 2., 4., 7., 3.]) # location of a mass in meters \n",
        "print(object_distance)"
      ],
      "execution_count": null,
      "outputs": []
    },
    {
      "cell_type": "code",
      "metadata": {
        "id": "tj3faA76CGiA"
      },
      "source": [
        "wee_woo = np.array([3., 5.8, 6, 7.9, 8, 11])\n",
        "print(wee_woo)"
      ],
      "execution_count": null,
      "outputs": []
    },
    {
      "cell_type": "markdown",
      "metadata": {
        "id": "NFm0jvTgmo62"
      },
      "source": [
        "The power of arrays is that if we do a mathematical operation of an array, it will carry out that operation on every element of the array. Let's say that we wanted to find the distance of the object in cm."
      ]
    },
    {
      "cell_type": "code",
      "metadata": {
        "id": "dCTT96IlmrZN"
      },
      "source": [
        "object_distance = object_distance * 100.0\n",
        "print('The objects position in cm is ')\n",
        "print(object_distance)"
      ],
      "execution_count": null,
      "outputs": []
    },
    {
      "cell_type": "markdown",
      "metadata": {
        "id": "EaGTONrRm0fX"
      },
      "source": [
        "We can do some basic analysis on arrays using built-in numpy functions"
      ]
    },
    {
      "cell_type": "code",
      "metadata": {
        "id": "BxlV04zgm1AR"
      },
      "source": [
        "mean_distance = np.mean(object_distance)\n",
        "print('The average distance is ' + str(mean_distance) + ' centimeters')\n",
        "\n",
        "stddev_distance = np.std(object_distance)\n",
        "stddev_distance = np.around(stddev_distance, 3)\n",
        "print('The standard deviation of the distance is ' + str(stddev_distance) + ' centimeters')"
      ],
      "execution_count": null,
      "outputs": []
    },
    {
      "cell_type": "markdown",
      "metadata": {
        "id": "8MSRCqy3m7Cz"
      },
      "source": [
        "Now let's say we have an object's x position and y position in 2D space. In order to find the distance of that object from the origin (0,0):\n"
      ]
    },
    {
      "cell_type": "code",
      "metadata": {
        "id": "xvyPuXGAm2do"
      },
      "source": [
        "x_position = 0.2  # meters\n",
        "y_position = 1.2  # meters\n",
        "distance = np.sqrt(x_position**2. + y_position**2.)\n",
        "print('The distance of an object with coordinates (0.2, 1.2) from the origin is ' + str(np.around(distance,3)) + ' meters')"
      ],
      "execution_count": null,
      "outputs": []
    },
    {
      "cell_type": "markdown",
      "metadata": {
        "id": "HwvZhwDoA3vL"
      },
      "source": [
        "We can do a similar operation with arrays of x and y positions."
      ]
    },
    {
      "cell_type": "code",
      "metadata": {
        "id": "fLos10IFBFkH"
      },
      "source": [
        "x_positions = np.array([0.2, 0.4, 0.3, 0.6])\n",
        "y_positions = np.array([0.1, 0.6, 0.2, 0.9])\n",
        "distances = np.sqrt(x_positions**2. + y_positions**2.)\n",
        "print('The distances of all of the objects from the origin are ')\n",
        "print(distances)"
      ],
      "execution_count": null,
      "outputs": []
    },
    {
      "cell_type": "markdown",
      "metadata": {
        "id": "mIPyEqYDGMwr"
      },
      "source": [
        "## Array generation functions"
      ]
    },
    {
      "cell_type": "markdown",
      "metadata": {
        "id": "wkzxG_ENTpqI"
      },
      "source": [
        "We can also use functions to create arrays. The most useful is the np.linspace function, which generates arrays that counts up from one value to another value such as:\n",
        "\n",
        "\n",
        "\n",
        "```\n",
        "[0., 1., 2., 3., 4.]\n",
        "[5., 6., 7.]\n",
        "[-0.1, 0., 0.1, 0.2, 0.3]\n",
        "```\n",
        "\n",
        "The inputs of the linspace function are the starting value of the array, the ending value of the array (inclusive) and the number of data points in between. For example, np.linspace(0., 5., 5) creates an array with 5 data points in between 0 and 5. \n",
        "\n"
      ]
    },
    {
      "cell_type": "code",
      "metadata": {
        "id": "qVyDQE35TgjB"
      },
      "source": [
        "linspace_array = np.linspace(0., 10., 5)\n",
        "print(linspace_array)"
      ],
      "execution_count": null,
      "outputs": []
    },
    {
      "cell_type": "markdown",
      "metadata": {
        "id": "WHV4y5OQK-6I"
      },
      "source": [
        "The number of points will determine the spacing between each number to the next"
      ]
    },
    {
      "cell_type": "markdown",
      "metadata": {
        "id": "mZ0PlFljT9Qr"
      },
      "source": [
        "We will see later on that this will be useful in plotting. As usual we can carry out operations on this array."
      ]
    },
    {
      "cell_type": "code",
      "metadata": {
        "id": "ZqLCrrErT4Lz"
      },
      "source": [
        "linspace_array = np.linspace(0., 20., 21)\n",
        "linspace_multiplied_array = linspace_array * 10.\n",
        "\n",
        "print(linspace_array)\n",
        "print(linspace_multiplied_array)"
      ],
      "execution_count": null,
      "outputs": []
    },
    {
      "cell_type": "markdown",
      "metadata": {
        "id": "KCvGh8aRLMoi"
      },
      "source": [
        "The numbers do not necessarily need to be rational numbers such as:"
      ]
    },
    {
      "cell_type": "code",
      "metadata": {
        "id": "LdpkGSq1LTcC"
      },
      "source": [
        "linspace_array = np.linspace(np.pi, 2*np.pi, 21)\n",
        "linspace_multiplied_array = linspace_array * 10.\n",
        "\n",
        "print(linspace_array)\n",
        "print(linspace_multiplied_array)"
      ],
      "execution_count": null,
      "outputs": []
    },
    {
      "cell_type": "markdown",
      "metadata": {
        "id": "9eYVo3gHRW9U"
      },
      "source": [
        "## Array Indexing"
      ]
    },
    {
      "cell_type": "markdown",
      "metadata": {
        "id": "lrkSXl1HRlNz"
      },
      "source": [
        "Sometimes we only want certain elements from each array. In order to select elements of the array, we indicate a particular element with an array index. This index can be a single number in the case of a single list of numbers or it can be a coordinate in a matrix of numbers. One subtlety in programming is that array indices start from 0. In future references, I will be referring to numbers by their programming index (zeroeth, first, second...) rather than the conventional way of counting to make things less confusing. \n",
        "\n",
        "Also note that all indices must be integers (meaning no decimal points). Let's consider a list of x positions again."
      ]
    },
    {
      "cell_type": "code",
      "metadata": {
        "id": "fs-Doc5qRY7c"
      },
      "source": [
        "x_positions = np.array([3., 4., 6., 3., 5., 7., 4.])"
      ],
      "execution_count": null,
      "outputs": []
    },
    {
      "cell_type": "markdown",
      "metadata": {
        "id": "sf4u14JYScZo"
      },
      "source": [
        "Now let's try printing the zeroth element in the x_positions array - number 3."
      ]
    },
    {
      "cell_type": "code",
      "metadata": {
        "id": "hw4TotDRSUdo"
      },
      "source": [
        "zero_element = x_positions[0]\n",
        "print('The zeroeth element is ' + str(zero_element))"
      ],
      "execution_count": null,
      "outputs": []
    },
    {
      "cell_type": "code",
      "metadata": {
        "id": "1u-kPDz-StMG"
      },
      "source": [
        "first_element = x_positions[1]\n",
        "second_element = x_positions[2]\n",
        "print('The first element is ' + str(first_element))\n",
        "print('The second element is ' + str(second_element))"
      ],
      "execution_count": null,
      "outputs": []
    },
    {
      "cell_type": "markdown",
      "metadata": {
        "id": "k_8jEFgnBgTJ"
      },
      "source": [
        "We can also use array indices to get a range of values. The elements begin with the first index and end at the second, not inclusive. Consider the following situations:"
      ]
    },
    {
      "cell_type": "code",
      "metadata": {
        "id": "hOb7Zqg8UKzh"
      },
      "source": [
        "array = np.arange(10.) # Makes an array with numbers from 0 to 9\n",
        "print(\"Complete array: \" + str(array))\n",
        "print(\"Array indices 0-3: \" + str(array[0:3]))\n",
        "print(\"Array indices 3-5: \" + str(array[3:5]))"
      ],
      "execution_count": null,
      "outputs": []
    },
    {
      "cell_type": "markdown",
      "metadata": {
        "id": "0hUzrLGDCUic"
      },
      "source": [
        "When we take data we will often be reading in two dimensional data arrays. In this case we give two coordinates. Consider the following array of x and y positions of 5 objects:"
      ]
    },
    {
      "cell_type": "code",
      "metadata": {
        "id": "es6Z5UwOCqYs"
      },
      "source": [
        "# First element is the x coordinate, second element is the y coordinate\n",
        "positions = np.array([[2., 4.],\n",
        "             [1., 3.],\n",
        "             [7., 2.],\n",
        "             [1., 8.],\n",
        "             [9., 2.]]) \n",
        "print(positions)"
      ],
      "execution_count": null,
      "outputs": []
    },
    {
      "cell_type": "markdown",
      "metadata": {
        "id": "FTp2w81QDGBp"
      },
      "source": [
        "We can select any value by giving the coordinates with the syntax \n",
        "\n",
        "```\n",
        "array[y coordinate, x coordinate]\n",
        "```\n",
        "Say that we have the positions above and we wanted the y position of the zeroeth object.\n",
        "\n"
      ]
    },
    {
      "cell_type": "code",
      "metadata": {
        "id": "BIb5ANvUB0I0"
      },
      "source": [
        "# 0 = the row, 1 = the column\n",
        "ypos_zeroeth = positions[0,1]\n",
        "print('The y position of the zeroeth element is: ' + str(ypos_zeroeth))"
      ],
      "execution_count": null,
      "outputs": []
    },
    {
      "cell_type": "markdown",
      "metadata": {
        "id": "RlRMHiSzDwpD"
      },
      "source": [
        "Let's take the x position of the 2nd object:"
      ]
    },
    {
      "cell_type": "code",
      "metadata": {
        "id": "ALsh9d4TDdZ3"
      },
      "source": [
        "xpos_second = positions[2,0]\n",
        "print('The x position of the second element is: ' + str(xpos_second))"
      ],
      "execution_count": null,
      "outputs": []
    },
    {
      "cell_type": "markdown",
      "metadata": {
        "id": "WSWPyzwNEX2s"
      },
      "source": [
        "As before, we can take ranges of values. If we want all of the values in a column or row, we simply put the colon : sign with no numbers. For example, if we wanted both coordinates of the first element:"
      ]
    },
    {
      "cell_type": "code",
      "metadata": {
        "id": "SHYHoHzdEJzi"
      },
      "source": [
        "# row 2, all of the elements\n",
        "coordinates_first = positions[2, :]\n",
        "print(coordinates_first)"
      ],
      "execution_count": null,
      "outputs": []
    },
    {
      "cell_type": "markdown",
      "metadata": {
        "id": "uxa6v98TEpLf"
      },
      "source": [
        "When we're reading in data we will need to often separate out our data arrays into columns so we can work with arrays of variables. In this case, we put a colon indicating that we want all of the elements in a column, and 0 indicating that we want the 0th column. "
      ]
    },
    {
      "cell_type": "code",
      "metadata": {
        "id": "Gsqu5WrPEmD9"
      },
      "source": [
        "# All of the elements in the 0th column\n",
        "x_coordinates = positions[:, 0]\n",
        "print('All of the x coordinates are ')\n",
        "print(x_coordinates)"
      ],
      "execution_count": null,
      "outputs": []
    },
    {
      "cell_type": "markdown",
      "metadata": {
        "id": "sVcmY-4WzRMY"
      },
      "source": [
        "*Developed by Pauline Arriaga* \n",
        "\n",
        "*rev. 2.0 S. Gowda 1-06-2022*\n",
        "\n",
        "*© Regents of the University of California*\n"
      ]
    }
  ]
}