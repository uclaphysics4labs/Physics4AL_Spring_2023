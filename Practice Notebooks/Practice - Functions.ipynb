{
  "nbformat": 4,
  "nbformat_minor": 0,
  "metadata": {
    "colab": {
      "provenance": []
    },
    "kernelspec": {
      "name": "python3",
      "display_name": "Python 3"
    }
  },
  "cells": [
    {
      "cell_type": "markdown",
      "metadata": {
        "id": "NK_iYrXI7Rqz"
      },
      "source": [
        "# Functions\n",
        "\n",
        "*developed by Pauline Arriaga*"
      ]
    },
    {
      "cell_type": "markdown",
      "metadata": {
        "id": "k1OCYfdjz7Qg"
      },
      "source": [
        "Funnctions in programming operate like functions in mathematics. A function in math takes an input, manipulates that input and gives an output. Consider the formula\n",
        "\n",
        "$f(x) = x + 5$\n",
        "\n",
        "Functions in programming work with the same syntax as functions in math, where we have the name of the function (in the above example f) and the variable in parenthases. We start each function with \n",
        "\n",
        "\n",
        "\n",
        "```\n",
        "def functionname(arguments):\n",
        "```\n",
        "\n",
        "Where def is in every function declaration, and there is a colon at the end of every statement. Everything inside the colon has to be indented or python will not read it as part of the function! Indentation in Python is very important.\n",
        "\n",
        "\n",
        "Each function returns with \"return something\". When the function is called, that something will be output.\n"
      ]
    },
    {
      "cell_type": "code",
      "metadata": {
        "id": "llrthscy7Oy9"
      },
      "source": [
        "def add_five(x):\n",
        "   y = x + 5.\n",
        "   return y"
      ],
      "execution_count": null,
      "outputs": []
    },
    {
      "cell_type": "code",
      "metadata": {
        "id": "z1Bl4cwc7clT",
        "outputId": "54d8de6f-dd4d-46b1-e22c-29dd32db20ce",
        "colab": {
          "base_uri": "https://localhost:8080/",
          "height": 69
        }
      },
      "source": [
        "print('f(2) = ' + str(add_five(2.)))\n",
        "print('f(5) = ' + str(add_five(5.)))\n",
        "print('f(9) = ' + str(add_five(9.)))"
      ],
      "execution_count": null,
      "outputs": [
        {
          "output_type": "stream",
          "text": [
            "f(2) = 7.0\n",
            "f(5) = 10.0\n",
            "f(9) = 14.0\n"
          ],
          "name": "stdout"
        }
      ]
    },
    {
      "cell_type": "markdown",
      "metadata": {
        "id": "-VKbn1qD15ur"
      },
      "source": [
        "As shown below, functions can have two inputs, separated by commas"
      ]
    },
    {
      "cell_type": "code",
      "metadata": {
        "id": "5Q2XKdq_7aob"
      },
      "source": [
        "import numpy as np"
      ],
      "execution_count": null,
      "outputs": []
    },
    {
      "cell_type": "code",
      "metadata": {
        "id": "byGd58l67pcR"
      },
      "source": [
        "def find_distance(x, y):\n",
        "  distance = np.sqrt(x**2. + y**2.)\n",
        "  return distance"
      ],
      "execution_count": null,
      "outputs": []
    },
    {
      "cell_type": "code",
      "metadata": {
        "id": "e8Kic9NE73Co",
        "outputId": "b8039e8e-6ae0-4d69-c316-74f60f455190",
        "colab": {
          "base_uri": "https://localhost:8080/",
          "height": 69
        }
      },
      "source": [
        "print('Distance of (2, 4) = ' + str(find_distance(2., 4.)))\n",
        "print('Distance of (1, 1) = ' + str(find_distance(1., 1.)))\n",
        "print('Distance of (3, 7) = ' + str(find_distance(3., 7.)))\n"
      ],
      "execution_count": null,
      "outputs": [
        {
          "output_type": "stream",
          "text": [
            "Distance of (2, 4) = 4.47213595499958\n",
            "Distance of (1, 1) = 1.4142135623730951\n",
            "Distance of (3, 7) = 7.615773105863909\n"
          ],
          "name": "stdout"
        }
      ]
    },
    {
      "cell_type": "markdown",
      "metadata": {
        "id": "Ml-Muv8j94vS"
      },
      "source": [
        "# Using functions on arrays"
      ]
    },
    {
      "cell_type": "markdown",
      "metadata": {
        "id": "gRwTpjSm2B5a"
      },
      "source": [
        "Consider the function below. As above we can use this function on numbers, but we can also use it on arrays. We are going to create an array of values between -15 and 15 and plug this array into the function. This will allow us to plot the function"
      ]
    },
    {
      "cell_type": "code",
      "metadata": {
        "id": "QqyqjpPc93NA"
      },
      "source": [
        "def quadratic(x):\n",
        "    y = 2. * x**2. + 3.\n",
        "    return y"
      ],
      "execution_count": null,
      "outputs": []
    },
    {
      "cell_type": "code",
      "metadata": {
        "id": "MbNZ15-898qz",
        "outputId": "7f00afb5-2a42-4898-8c9b-82e0fddbb239",
        "colab": {
          "base_uri": "https://localhost:8080/",
          "height": 299
        }
      },
      "source": [
        "import matplotlib.pyplot as plt\n",
        "x_axis = np.arange(31.) - 15.\n",
        "y_axis = quadratic(x_axis)\n",
        "\n",
        "plt.plot(x_axis, y_axis)\n",
        "plt.title('Output of quadratic')"
      ],
      "execution_count": null,
      "outputs": [
        {
          "output_type": "execute_result",
          "data": {
            "text/plain": [
              "Text(0.5, 1.0, 'Output of quadratic')"
            ]
          },
          "metadata": {
            "tags": []
          },
          "execution_count": 7
        },
        {
          "output_type": "display_data",
          "data": {
            "image/png": "[encoded data removed]",
            "text/plain": [
              "<Figure size 432x288 with 1 Axes>"
            ]
          },
          "metadata": {
            "tags": []
          }
        }
      ]
    },
    {
      "cell_type": "code",
      "metadata": {
        "id": "2XUe14nV79-P"
      },
      "source": [
        "def quadratic_input(x, a, c):\n",
        "    y = a * x**2. + c\n",
        "    return y"
      ],
      "execution_count": null,
      "outputs": []
    },
    {
      "cell_type": "code",
      "metadata": {
        "id": "FlJhR1Vc-noN",
        "outputId": "ee4283bd-2f17-480f-ab5a-b130974bd7c7",
        "colab": {
          "base_uri": "https://localhost:8080/",
          "height": 287
        }
      },
      "source": [
        "y_axis = quadratic_input(x_axis, 1., 3.)\n",
        "y_axis_2 = quadratic_input(x_axis, 2., 3.)\n",
        "y_axis_3 = quadratic_input(x_axis, 3., 3.)\n",
        "\n",
        "plt.plot(x_axis, y_axis, label = 'a = 1')\n",
        "plt.plot(x_axis, y_axis_2, label = 'a = 2')\n",
        "plt.plot(x_axis, y_axis_3, label = 'a = 3')\n",
        "plt.legend()"
      ],
      "execution_count": null,
      "outputs": [
        {
          "output_type": "execute_result",
          "data": {
            "text/plain": [
              "<matplotlib.legend.Legend at 0x7f4fe77fb7b8>"
            ]
          },
          "metadata": {
            "tags": []
          },
          "execution_count": 9
        },
        {
          "output_type": "display_data",
          "data": {
            "image/png": "[encoded data removed]",
            "text/plain": [
              "<Figure size 432x288 with 1 Axes>"
            ]
          },
          "metadata": {
            "tags": []
          }
        }
      ]
    },
    {
      "cell_type": "markdown",
      "metadata": {
        "id": "dxnbuIH8-81h"
      },
      "source": [
        "# Momentum and energy calculation"
      ]
    },
    {
      "cell_type": "markdown",
      "metadata": {
        "id": "Qf6pQgHSkYgX"
      },
      "source": [
        "We're now going to create functions to calculate the momentum, energy and the associated errors with these quantities. We can start by making a function takes a mass `m` and velocity `v` and returns the momentum `p`. Call the function `momentum_function` \n",
        "\n",
        "$p = m * v$"
      ]
    },
    {
      "cell_type": "code",
      "metadata": {
        "id": "q902hAv2kxLi"
      },
      "source": [
        "# Define your function which takes the argument m and an argument v\n",
        "\n",
        "# Indent starting here\n",
        "# Calculate p\n",
        "\n",
        "# Return p\n",
        "\n"
      ],
      "execution_count": null,
      "outputs": []
    },
    {
      "cell_type": "markdown",
      "metadata": {
        "id": "stNFgJuNm7kq"
      },
      "source": [
        "Make another function called kinetic_energy_function that takes a mass m and velocity v and returns the kinetic energy\n",
        "\n",
        "$K = 0.5 m v^2$"
      ]
    },
    {
      "cell_type": "code",
      "metadata": {
        "id": "V3NXtNIWlF0K"
      },
      "source": [
        "# Define your function which takes the argument m and an argument v\n",
        "\n",
        "# Indent starting here\n",
        "# Calculate K\n",
        "\n",
        "# Return K\n",
        "\n"
      ],
      "execution_count": null,
      "outputs": []
    },
    {
      "cell_type": "markdown",
      "source": [
        "Below, use your functions to calculate the energy and momentum for an object that weighs $m = 3.0 \\text{ kg}$ moving at a velocity of $30.0 \\text{ m/s}$. Be sure to include units!"
      ],
      "metadata": {
        "id": "GkQs_ER821_R"
      }
    },
    {
      "cell_type": "code",
      "source": [
        "#You have already defined the functions, so you just have to call them\n",
        "\n",
        "\n"
      ],
      "metadata": {
        "id": "9vEwO6mV22Hm"
      },
      "execution_count": null,
      "outputs": []
    },
    {
      "cell_type": "markdown",
      "metadata": {
        "id": "Y5ilKtiCnIsS"
      },
      "source": [
        "Create a function to calculate the uncertainty in the momentum given the mass `m`, the uncertainty on the mass `delta_m`, the velocity `v` and the uncertainty on the velocity `delta_v`\n",
        "\n",
        "Recall from the error propagation video lecture that if \n",
        "\n",
        "$A = X * Y$\n",
        "\n",
        "That\n",
        "\n",
        "$\\delta A = A * \\sqrt{\\left(\\frac{\\delta X}{X}\\right)^2 + \\left(\\frac{\\delta Y}{Y}\\right)^2}$\n",
        "\n",
        "So, for \n",
        "\n",
        "$p=m*v$\n",
        "\n",
        "we have\n",
        "\n",
        "$\\delta p = p*\\sqrt{\\left(\\frac{\\delta m}{m}\\right)^2 + \\left(\\frac{\\delta v}{v}\\right)^2}$"
      ]
    },
    {
      "cell_type": "code",
      "metadata": {
        "id": "B-O79Ghon0-D"
      },
      "source": [
        "# Define your function which takes the argument m, v, delta_m and delta_v\n",
        "\n",
        "# Indent starting here\n",
        "# Calculate delta_p\n",
        "\n",
        "\n",
        "\n",
        "# Return delta_p\n"
      ],
      "execution_count": null,
      "outputs": []
    },
    {
      "cell_type": "markdown",
      "metadata": {
        "id": "49aKvW3KoMuW"
      },
      "source": [
        "Create a function that takes all of the previous parameters and calculates the uncertainty in the energy. Recall from the error propagation video lecture:\n",
        "\n",
        "If $w=v^2$, then\n",
        "\n",
        "$$\\delta w = 2 |w| \\frac{\\delta v}{|v|}$$\n",
        "\n",
        "Let $z=mv^2=mw$, then\n",
        "$$\\delta z = |z| \\sqrt{(\\frac{\\delta m}{m})^2+(\\frac{\\delta w}{w})^2} $$\n",
        "\n",
        "Lastly we have $K=\\frac{1}{2}mv^2 = \\frac{1}{2}mw = \\frac{1}{2}z$, \n",
        "$$\\delta K =  |K| \\frac{\\delta z}{|z|}$$\n"
      ]
    },
    {
      "cell_type": "code",
      "metadata": {
        "id": "xyLcWCIioamZ"
      },
      "source": [
        "# Define the function taking m, v, delta m, delta v\n",
        "\n",
        "# Indent starting here\n",
        "# Calculate delta_K\n",
        "\n",
        "\n",
        "\n",
        "# Return delta_K\n"
      ],
      "execution_count": null,
      "outputs": []
    },
    {
      "cell_type": "markdown",
      "metadata": {
        "id": "MF13Uucjospj"
      },
      "source": [
        "Below, use your functions to calculate the energy and momentum uncertainties for an object that weighs $m = 3.0 \\pm 0.5 \\text{ kg}$ moving at a velocity of $30.0 \\pm 5.0 \\text{ m/s}$. Be sure to include units!\n",
        "\n",
        "(Here delta_m=0.5 and delta_v=5)"
      ]
    },
    {
      "cell_type": "code",
      "metadata": {
        "id": "5JRxb9Nxo54D"
      },
      "source": [
        "#You have already defined the function so you just have to call them\n",
        "\n",
        "\n",
        "\n"
      ],
      "execution_count": null,
      "outputs": []
    }
  ]
}