{
  "nbformat": 4,
  "nbformat_minor": 0,
  "metadata": {
    "colab": {
      "provenance": []
    },
    "kernelspec": {
      "name": "python3",
      "display_name": "Python 3"
    }
  },
  "cells": [
    {
      "cell_type": "markdown",
      "metadata": {
        "id": "LOiZExRRhs6r"
      },
      "source": [
        "Suppose you measure some quantities $$a, b, c, ...$$ with uncertainties $$δa, δb, δc, ...$$\n",
        "Now you want\n",
        "to calculate some other quantity $Q$ which depends on $a$ and $b$ and so forth. What is the uncertainty\n",
        "in $Q$? Here are some rules which you will \n",
        "need; all of them assume that the quantities $a$, $b$, etc. are independent of each other and have errors which are uncorrelated and\n",
        "random.\n",
        "\n"
      ]
    },
    {
      "cell_type": "markdown",
      "metadata": {
        "id": "8GMchOUAh-_C"
      },
      "source": [
        "1. Addition or subtraction\n",
        "\n",
        "If\n",
        "$$Q = a + b + ... + c − (x + y + ... + z)$$\n",
        "\n",
        "Then\n",
        "\n",
        "$$δQ = \\sqrt{(δa)^2 + (δb)^2 + ... + (δc)^2 + (δx)^2 + (δy)^2 + ... + (δz)^2}$$"
      ]
    },
    {
      "cell_type": "markdown",
      "metadata": {
        "id": "XYXOqTRpimjd"
      },
      "source": [
        "2. Multiplication or division\n",
        "\n",
        "If\n",
        "\n",
        "$$Q=\\frac{ab...c}{xy...z}$$\n",
        "\n",
        "Then\n",
        "\n",
        "$$\\frac{\\delta q}{|Q|} = \\sqrt{ (\\frac{\\delta a}{a})^2 + (\\frac{\\delta b}{b})^2 + ... + (\\frac{\\delta c}{c})^2 + (\\frac{\\delta x}{x})^2 + (\\frac{\\delta y}{y})^2 + ... + (\\frac{\\delta z}{z})^2 }$$"
      ]
    },
    {
      "cell_type": "markdown",
      "metadata": {
        "id": "ws6z2vG4jrPN"
      },
      "source": [
        "3. Multiplication or division by a constant\n",
        "\n",
        "If \n",
        "\n",
        "$$Q = Ax$$\n",
        "\n",
        "Then\n",
        "\n",
        "$$ \\frac{\\delta q}{|Q|} = \\frac{\\delta x}{|x|} $$"
      ]
    },
    {
      "cell_type": "markdown",
      "metadata": {
        "id": "6uj1-JpjkDFG"
      },
      "source": [
        "4. Uncertainty in a power\n",
        "\n",
        "If \n",
        "\n",
        "$$ Q = x^n $$\n",
        "\n",
        "Then\n",
        "\n",
        "$$ \\frac{\\delta q}{|Q|} = n \\frac{\\delta x}{|x|} $$"
      ]
    },
    {
      "cell_type": "markdown",
      "metadata": {
        "id": "pn4eSH6QmTbN"
      },
      "source": [
        "Let's apply the rules to get uncertainties in momentum and energy for $m = 3.0 \\pm 0.5 kg$ moving at a velocity of $30.0 \\pm 5.0 m/s$."
      ]
    },
    {
      "cell_type": "code",
      "metadata": {
        "id": "prklvfkcmSrw"
      },
      "source": [
        "# Required variables\n",
        "m = 3\n",
        "delta_m = 0.5\n",
        "v = 30\n",
        "delta_v = 5"
      ],
      "execution_count": null,
      "outputs": []
    },
    {
      "cell_type": "markdown",
      "metadata": {
        "id": "AjAVfXXuoX7f"
      },
      "source": [
        "Momentum equation $$ p = mv$$\n",
        "Kinetic energy equation\n",
        "$$K=\\frac{1}{2}mv^2$$"
      ]
    },
    {
      "cell_type": "code",
      "metadata": {
        "colab": {
          "base_uri": "https://localhost:8080/"
        },
        "id": "ltDuut2FhjY0",
        "outputId": "285d4cac-a9c9-450c-913e-1aaa37f846aa"
      },
      "source": [
        "# Mometum\n",
        "p = m*v\n",
        "# Kinetic energy\n",
        "ke = 0.5*m*v*v\n",
        "\n",
        "print(\"Momentum = \"+str(p)+\" kgm/s\")\n",
        "print(\"Kinetic energy = \"+str(ke)+\" J\")"
      ],
      "execution_count": null,
      "outputs": [
        {
          "output_type": "stream",
          "text": [
            "Momentum = 90 kgm/s\n",
            "Kinetic energy = 1350.0 J\n"
          ],
          "name": "stdout"
        }
      ]
    },
    {
      "cell_type": "markdown",
      "metadata": {
        "id": "mzETZMuMnOvH"
      },
      "source": [
        "Error in momentum.\n",
        "\n",
        "We can apply Rule #2 to get\n",
        "\n",
        "$$ \\frac{\\delta p}{|p|} = \\sqrt{(\\frac{\\delta m}{m})^2+(\\frac{\\delta v}{v})^2} $$"
      ]
    },
    {
      "cell_type": "code",
      "metadata": {
        "colab": {
          "base_uri": "https://localhost:8080/"
        },
        "id": "gYPuTbOinoYX",
        "outputId": "26ed2b76-33dc-4d5c-9991-4e67d1775009"
      },
      "source": [
        "import numpy as np\n",
        "# Error in momentum\n",
        "delta_p = p*np.sqrt((delta_m/m)**2+(delta_v/v)**2)\n",
        "\n",
        "print(\"Error in momentum = \"+str(np.round(delta_p,2))+\" kgm/s\")"
      ],
      "execution_count": null,
      "outputs": [
        {
          "output_type": "stream",
          "text": [
            "Error in momentum = 21.21 kgm/s\n"
          ],
          "name": "stdout"
        }
      ]
    },
    {
      "cell_type": "markdown",
      "metadata": {
        "id": "h_fcKWu5pHbc"
      },
      "source": [
        "Error in kinetic energy.\n",
        "\n",
        "We will have to apply more than one rule. One way is to apply Rule #4 -> Rule #2 -> Rule #3\n",
        "\n",
        "If $w=v^2$, then\n",
        "\n",
        "$$\\delta w = 2 |w| \\frac{\\delta v}{|v|}$$\n",
        "\n",
        "Let $z=mv^2=mw$, then\n",
        "$$\\delta z = |z| \\sqrt{(\\frac{\\delta m}{m})^2+(\\frac{\\delta w}{w})^2} $$\n",
        "\n",
        "Lastly we have $K=\\frac{1}{2}mv^2 = \\frac{1}{2}mw = \\frac{1}{2}z$, \n",
        "$$\\delta K =  |K| \\frac{\\delta z}{|z|}$$"
      ]
    },
    {
      "cell_type": "code",
      "metadata": {
        "id": "rCwP3kgAoDgg"
      },
      "source": [
        "# Error in energy\n",
        "w=v**2\n",
        "delta_w=2*w*delta_v/v\n",
        "z=m*w\n",
        "delta_z=z*np.sqrt((delta_m/m)**2+(delta_w/w)**2)\n",
        "K=0.5*z\n",
        "delta_K=K*delta_z/z\n",
        "\n",
        "print(\"Error in energy = \"+str(np.round(delta_K,2))+\" J\")"
      ],
      "execution_count": null,
      "outputs": []
    },
    {
      "cell_type": "markdown",
      "metadata": {
        "id": "LCFz65X0sBju"
      },
      "source": [
        "Suppose you used np.polyfit between two data sets and obtained the line of best fit between them. The quantity you care about $q$ is the inverse of your slope $m$ and you know the error in the slope $\\delta m$. How do you find the error $\\delta q$? \n",
        "\n",
        "Use Rule #2 which gives us \n",
        "\n",
        "$$ q=\\frac{1}{m}$$\n",
        "$$ \\delta q = |q| * \\frac{\\delta m}{m} $$"
      ]
    },
    {
      "cell_type": "markdown",
      "source": [
        "For learning how to use a general formula for error propagation please refer this [link](https://blackboard.jhu.edu/bbcswebdav/pid-3999329-dt-content-rid-12261071_3/orgs/ORG.AS.GENERALPHYSICSLABTAS/GPL%20Course%20Content/Common/UncertaintyReference.pdf)."
      ],
      "metadata": {
        "id": "EWMeRFs1t2TX"
      }
    },
    {
      "cell_type": "code",
      "metadata": {
        "id": "3TAz0BREroaX"
      },
      "source": [],
      "execution_count": null,
      "outputs": []
    }
  ]
}